{
 "cells": [
  {
   "cell_type": "markdown",
   "id": "3cf7dbb1",
   "metadata": {},
   "source": [
    "print(Romario Joseph - romario.joseph001@umb.edu, Sumaya Abdullahi - sumaya.abdullahi001@umb.edu, Tydina Muhammad - tydina.muhammad001@umb.edu, Aidan McGinnis - Aidan.McGinnis001@umb.edu, Vitoria Gomes de Mattos Sousa - gomesdemattossous001@umb.edu, Kasey Omahony - kasey.omahony001@umb.edu)"
   ]
  },
  {
   "cell_type": "code",
   "execution_count": null,
   "id": "99e5644d",
   "metadata": {},
   "outputs": [],
   "source": [
    "Eastern Gray Squirrel (Sciurus carolinensis)"
   ]
  },
  {
   "cell_type": "markdown",
   "id": "aefab4b9",
   "metadata": {},
   "source": [
    "All Body Parts Accross Time"
   ]
  },
  {
   "cell_type": "markdown",
   "id": "811baf45",
   "metadata": {},
   "source": [
    "<img src=\"https://raw.githubusercontent.com/KRASVT/GSquirrel/main/Analytical_Behaviorism_PresentationFiles/Squirrel%20video%205_All%20body%20parts%20across%20time.png\">"
   ]
  },
  {
   "cell_type": "markdown",
   "id": "1c9c7c8a",
   "metadata": {},
   "source": [
    "Body parts plotted in space"
   ]
  },
  {
   "cell_type": "markdown",
   "id": "a64b618d",
   "metadata": {},
   "source": [
    "<img src=\"https://raw.githubusercontent.com/KRASVT/GSquirrel/main/Analytical_Behaviorism_PresentationFiles/Squirrel%20video%205_Body%20parts%20plotted%20in%20space.png\">"
   ]
  },
  {
   "cell_type": "markdown",
   "id": "ccd0e873",
   "metadata": {},
   "source": [
    "Consecutive coordinate differences"
   ]
  },
  {
   "cell_type": "markdown",
   "id": "fadcc00f",
   "metadata": {},
   "source": [
    "<img src=\"https://raw.githubusercontent.com/KRASVT/GSquirrel/main/Analytical_Behaviorism_PresentationFiles/Squirrel%20video%205_Consecutive%20coordinate%20differences.png\">"
   ]
  },
  {
   "cell_type": "markdown",
   "id": "d37b4454",
   "metadata": {},
   "source": [
    "Every body part likelihood over time"
   ]
  },
  {
   "cell_type": "markdown",
   "id": "68e03663",
   "metadata": {},
   "source": [
    "<img src=\"https://raw.githubusercontent.com/KRASVT/GSquirrel/main/Analytical_Behaviorism_PresentationFiles/Squirrel%20video%205_Every%20body%20part%20likelihood%20over%20time.png\">"
   ]
  },
  {
   "cell_type": "markdown",
   "id": "ed64268b",
   "metadata": {},
   "source": [
    "Squirrel video 5 - DLCLabelled"
   ]
  },
  {
   "cell_type": "markdown",
   "id": "15ea3cce",
   "metadata": {},
   "source": [
    "<video controls src=\"http://localhost:8888/files/Squirrel%20video%205_DLCLabelled.mp4\">"
   ]
  },
  {
   "cell_type": "markdown",
   "id": "4e6cd186",
   "metadata": {},
   "source": [
    "Squirrels video 9 DLC Labelled"
   ]
  },
  {
   "cell_type": "markdown",
   "id": "4fcc0cfa",
   "metadata": {},
   "source": [
    "<video controls src=\"http://localhost:8888/files/Squirrel%20video%209_DLCLabelled.mp4\">"
   ]
  },
  {
   "cell_type": "code",
   "execution_count": null,
   "id": "ab8570a9",
   "metadata": {},
   "outputs": [],
   "source": []
  }
 ],
 "metadata": {
  "kernelspec": {
   "display_name": "Python 3 (ipykernel)",
   "language": "python",
   "name": "python3"
  },
  "language_info": {
   "codemirror_mode": {
    "name": "ipython",
    "version": 3
   },
   "file_extension": ".py",
   "mimetype": "text/x-python",
   "name": "python",
   "nbconvert_exporter": "python",
   "pygments_lexer": "ipython3",
   "version": "3.9.12"
  }
 },
 "nbformat": 4,
 "nbformat_minor": 5
}
